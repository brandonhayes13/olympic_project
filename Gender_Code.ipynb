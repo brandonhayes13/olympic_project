{
 "cells": [
  {
   "cell_type": "code",
   "execution_count": 3,
   "metadata": {},
   "outputs": [],
   "source": [
    "# Dependencies and Setup\n",
    "import pandas as pd\n",
    "from pathlib import Path\n",
    "import matplotlib.pyplot as plt\n",
    "import numpy as np\n",
    "%matplotlib notebook\n",
    "\n",
    "# File to Load (Remember to Change These)\n",
    "athlete_bio = Path(\"data/Olympic_Athlete_Bio.csv\")\n",
    "event_results = Path(\"data/Olympic_Athlete_Event_Results.csv\")\n",
    "medal_tally = Path(\"data/Olympic_Games_Medal_Tally.csv\")\n",
    "results = Path(\"data/Olympic_Results.csv\")\n",
    "country = Path(\"data/Olympics_Country.csv\")\n",
    "games = Path(\"data/Olympics_Games.csv\")\n",
    "\n",
    "# Read School and Student Data File and store into Pandas DataFrames\n",
    "bio_data = pd.read_csv(athlete_bio)\n",
    "event_results_data = pd.read_csv(event_results)\n",
    "medal_tally_data = pd.read_csv(medal_tally)\n",
    "results_data = pd.read_csv(results)\n",
    "country_data = pd.read_csv(country)\n",
    "games_data = pd.read_csv(games)"
   ]
  },
  {
   "cell_type": "code",
   "execution_count": 6,
   "metadata": {},
   "outputs": [
    {
     "data": {
      "text/html": [
       "<div>\n",
       "<style scoped>\n",
       "    .dataframe tbody tr th:only-of-type {\n",
       "        vertical-align: middle;\n",
       "    }\n",
       "\n",
       "    .dataframe tbody tr th {\n",
       "        vertical-align: top;\n",
       "    }\n",
       "\n",
       "    .dataframe thead th {\n",
       "        text-align: right;\n",
       "    }\n",
       "</style>\n",
       "<table border=\"1\" class=\"dataframe\">\n",
       "  <thead>\n",
       "    <tr style=\"text-align: right;\">\n",
       "      <th></th>\n",
       "      <th>athlete_id</th>\n",
       "      <th>name</th>\n",
       "      <th>sex</th>\n",
       "      <th>born</th>\n",
       "      <th>height</th>\n",
       "      <th>weight</th>\n",
       "      <th>country</th>\n",
       "      <th>country_noc</th>\n",
       "    </tr>\n",
       "  </thead>\n",
       "  <tbody>\n",
       "    <tr>\n",
       "      <th>0</th>\n",
       "      <td>65649</td>\n",
       "      <td>Ivanka Bonova</td>\n",
       "      <td>Female</td>\n",
       "      <td>4-Apr-49</td>\n",
       "      <td>166.0</td>\n",
       "      <td>55</td>\n",
       "      <td>Bulgaria</td>\n",
       "      <td>BUL</td>\n",
       "    </tr>\n",
       "    <tr>\n",
       "      <th>1</th>\n",
       "      <td>112510</td>\n",
       "      <td>Nataliya Uryadova</td>\n",
       "      <td>Female</td>\n",
       "      <td>15-Mar-77</td>\n",
       "      <td>184.0</td>\n",
       "      <td>70</td>\n",
       "      <td>Russian Federation</td>\n",
       "      <td>RUS</td>\n",
       "    </tr>\n",
       "    <tr>\n",
       "      <th>2</th>\n",
       "      <td>114973</td>\n",
       "      <td>Essa Ismail Rashed</td>\n",
       "      <td>Male</td>\n",
       "      <td>14-Dec-86</td>\n",
       "      <td>165.0</td>\n",
       "      <td>55</td>\n",
       "      <td>Qatar</td>\n",
       "      <td>QAT</td>\n",
       "    </tr>\n",
       "    <tr>\n",
       "      <th>3</th>\n",
       "      <td>30359</td>\n",
       "      <td>Péter Boros</td>\n",
       "      <td>Male</td>\n",
       "      <td>12-Jan-08</td>\n",
       "      <td>NaN</td>\n",
       "      <td>NaN</td>\n",
       "      <td>Hungary</td>\n",
       "      <td>HUN</td>\n",
       "    </tr>\n",
       "    <tr>\n",
       "      <th>4</th>\n",
       "      <td>50557</td>\n",
       "      <td>Rudolf Piowatý</td>\n",
       "      <td>Male</td>\n",
       "      <td>28-Apr-00</td>\n",
       "      <td>NaN</td>\n",
       "      <td>NaN</td>\n",
       "      <td>Czechoslovakia</td>\n",
       "      <td>TCH</td>\n",
       "    </tr>\n",
       "  </tbody>\n",
       "</table>\n",
       "</div>"
      ],
      "text/plain": [
       "   athlete_id                name     sex       born  height weight  \\\n",
       "0       65649       Ivanka Bonova  Female   4-Apr-49   166.0     55   \n",
       "1      112510   Nataliya Uryadova  Female  15-Mar-77   184.0     70   \n",
       "2      114973  Essa Ismail Rashed    Male  14-Dec-86   165.0     55   \n",
       "3       30359         Péter Boros    Male  12-Jan-08     NaN    NaN   \n",
       "4       50557      Rudolf Piowatý    Male  28-Apr-00     NaN    NaN   \n",
       "\n",
       "               country country_noc  \n",
       "0             Bulgaria         BUL  \n",
       "1   Russian Federation         RUS  \n",
       "2                Qatar         QAT  \n",
       "3              Hungary         HUN  \n",
       "4       Czechoslovakia         TCH  "
      ]
     },
     "execution_count": 6,
     "metadata": {},
     "output_type": "execute_result"
    }
   ],
   "source": [
    "bio_data.head()"
   ]
  },
  {
   "cell_type": "code",
   "execution_count": 8,
   "metadata": {},
   "outputs": [
    {
     "data": {
      "text/plain": [
       "athlete_id     155861\n",
       "name           152747\n",
       "sex                 2\n",
       "born            41780\n",
       "height             95\n",
       "weight            576\n",
       "country           707\n",
       "country_noc       232\n",
       "dtype: int64"
      ]
     },
     "execution_count": 8,
     "metadata": {},
     "output_type": "execute_result"
    }
   ],
   "source": [
    "bio_data.nunique()"
   ]
  },
  {
   "cell_type": "code",
   "execution_count": 7,
   "metadata": {},
   "outputs": [
    {
     "data": {
      "text/plain": [
       "sex\n",
       "Male      115527\n",
       "Female     40334\n",
       "Name: count, dtype: int64"
      ]
     },
     "execution_count": 7,
     "metadata": {},
     "output_type": "execute_result"
    }
   ],
   "source": [
    "count = bio_data[\"sex\"].value_counts()\n",
    "count"
   ]
  }
 ],
 "metadata": {
  "kernelspec": {
   "display_name": "base",
   "language": "python",
   "name": "python3"
  },
  "language_info": {
   "codemirror_mode": {
    "name": "ipython",
    "version": 3
   },
   "file_extension": ".py",
   "mimetype": "text/x-python",
   "name": "python",
   "nbconvert_exporter": "python",
   "pygments_lexer": "ipython3",
   "version": "3.12.4"
  }
 },
 "nbformat": 4,
 "nbformat_minor": 2
}
